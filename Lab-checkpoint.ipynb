{
 "cells": [
  {
   "cell_type": "markdown",
   "id": "41c64263",
   "metadata": {},
   "source": [
    "# Required libraries"
   ]
  },
  {
   "cell_type": "code",
   "execution_count": 5,
   "id": "fb4c7c46",
   "metadata": {},
   "outputs": [],
   "source": [
    "import mysql.connector\n",
    "import pandas as pd"
   ]
  },
  {
   "cell_type": "code",
   "execution_count": 6,
   "id": "3f5fda92",
   "metadata": {},
   "outputs": [],
   "source": [
    "connection = mysql.connector.connect(host=\"localhost\",\n",
    "                                    user=\"root\",\n",
    "                                    passwd=\"8248176784sS@\",\n",
    "                                    database=\"E_Commerce\")\n",
    "cursorobject = connection.cursor()\n"
   ]
  },
  {
   "cell_type": "markdown",
   "id": "5e164203",
   "metadata": {},
   "source": [
    "Q1. Create tables for supplier, customer, category, product, \n",
    "productDetails, order, rating to store the data for the E-commerence"
   ]
  },
  {
   "cell_type": "code",
   "execution_count": null,
   "id": "3dc76ed2",
   "metadata": {},
   "outputs": [],
   "source": [
    "table_creation_query=\"\"\" create table `supplier` (SUPP_ID int primary key, SUPP_NAME varchar(50), SUPP_CITY varchar(50), SUPP_PHONE varchar(15) ); \n",
    "                        \n",
    "                       create table `customer`( CUS_ID INT NOT NULL, CUS_NAME VARCHAR(20) NULL DEFAULT NULL, CUS_PHONE VARCHAR(10), CUS_CITY varchar(30) ,CUS_GENDER CHAR,PRIMARY KEY (CUS_ID));\n",
    "                        \n",
    "                        CREATE TABLE `category` (CAT_ID INT NOT NULL, CAT_NAME VARCHAR(20) NULL DEFAULT NULL,PRIMARY KEY (CAT_ID));\n",
    "                        \n",
    "                        CREATE TABLE `product` (PRO_ID INT NOT NULL, PRO_NAME VARCHAR(20) NULL DEFAULT NULL, PRO_DESC VARCHAR(60) NULL DEFAULT NULL, CAT_ID INT NOT NULL,PRIMARY KEY (PRO_ID),FOREIGN KEY (CAT_ID) REFERENCES CATEGORY (CAT_ID));\n",
    "                        \n",
    "                        CREATE TABLE `product_details` (PROD_ID INT NOT NULL, PRO_ID INT NOT NULL, SUPP_ID INT NOT NULL, PROD_PRICE INT NOT NULL,PRIMARY KEY (PROD_ID),FOREIGN KEY (PRO_ID) REFERENCES PRODUCT (PRO_ID), FOREIGN KEY (SUPP_ID) REFERENCES SUPPLIER(SUPP_ID));\n",
    "                        \n",
    "                        CREATE TABLE `orders` (ORD_ID INT NOT NULL, ORD_AMOUNT INT NOT NULL, ORD_DATE DATE, CUS_ID INT NOT NULL, PROD_ID INT NOT NULL,PRIMARY KEY (ORD_ID),FOREIGN KEY (CUS_ID) REFERENCES CUSTOMER(CUS_ID),FOREIGN KEY (PROD_ID) REFERENCES PRODUCT_DETAILS(PROD_ID));\n",
    "                        \n",
    "                        CREATE TABLE `rating` (RAT_ID INT NOT NULL, CUS_ID INT NOT NULL, SUPP_ID INT NOT NULL, RAT_RATSTARS INT NOT NULL,PRIMARY KEY (RAT_ID),FOREIGN KEY (SUPP_ID) REFERENCES SUPPLIER (SUPP_ID),FOREIGN KEY (CUS_ID) REFERENCES CUSTOMER(CUS_ID))\n",
    "                        \"\"\"\n",
    "                  \n",
    "cursorobject.execute(table_creation_query)"
   ]
  },
  {
   "cell_type": "markdown",
   "id": "256de9dc",
   "metadata": {},
   "source": [
    "Q2. Insert the following data in the table"
   ]
  },
  {
   "cell_type": "code",
   "execution_count": 49,
   "id": "a3313f2b",
   "metadata": {},
   "outputs": [],
   "source": [
    "#insert into supplier table\n",
    "insert_query= \"Insert into supplier (SUPP_ID,SUPP_NAME,SUPP_CITY,SUPP_PHONE) values(%s,%s,%s,%s)\"\n",
    "VAL=[\n",
    "(1 , \"Rajesh Retail\" , \"Delhi\" , \"1234567890\"),\n",
    "(2 , \"Appario Ltd.\" , \"Mumbai\" , \"258963147032\"),\n",
    "(3 , \"Knome products\" ,  \"Bangalore\" , \"9785462315\"),\n",
    "(4 , \"Bansal Retails\" , \"Kochi\" , \"8975463285\"),\n",
    "(5 , \"Mittal Ltd.\" , \"Lucknow\" , \"7898456532\")]\n",
    "\n",
    "cursorobject.executemany(insert_query,VAL)\n",
    "connection.commit()\n"
   ]
  },
  {
   "cell_type": "code",
   "execution_count": 50,
   "id": "8f1d4a08",
   "metadata": {},
   "outputs": [],
   "source": [
    "# insert into \"customer\" table\n",
    "insert_query= \"Insert into customer (CUS_ID,CUS_NAME,CUS_PHONE,CUS_CITY,CUS_GENDER) values(%s,%s,%s,%s,%s)\"\n",
    "VAL=[\n",
    "(1 , \"AAKASH\" , \"9999999999\" , \"DELHI\" , \"M\"),\n",
    "(2 , \"AMAN\" , \"9785463215\" , \"NOIDA\" , \"M\"),\n",
    "(3 , \"NEHA\" , \"9999999998\" , \"MUMBAI\" , \"F\"),\n",
    "(4 , \"MEGHA\" , \"9994562399\" , \"KOLKATA\" , \"F\"),\n",
    "(5 , \"PULKIT\" , \"7895999999\" , \"LUCKNOW\" , \"M\")]\n",
    "\n",
    "cursorobject.executemany(insert_query,VAL)\n",
    "connection.commit()"
   ]
  },
  {
   "cell_type": "code",
   "execution_count": 52,
   "id": "cb8fa2c7",
   "metadata": {},
   "outputs": [],
   "source": [
    "# insert into \"categoty\" table\n",
    "insert_query= \"Insert into category (CAT_ID,CAT_NAME) values(%s,%s)\"\n",
    "VAL=[\n",
    "(1 , \"BOOKS\"),\n",
    "(2 , \"GAMES\"),\n",
    "(3 , \"GROCERIES\"),\n",
    "(4 , \"ELECTRONICS\"),\n",
    "(5 , \"CLOTHES\")]\n",
    "\n",
    "cursorobject.executemany(insert_query,VAL)\n",
    "connection.commit()"
   ]
  },
  {
   "cell_type": "code",
   "execution_count": 53,
   "id": "d601cfbc",
   "metadata": {},
   "outputs": [],
   "source": [
    "# insert into \"product\" table\n",
    "\n",
    "insert_query= \"Insert into product (PRO_ID,PRO_NAME,PRO_DESC,CAT_ID) values(%s,%s,%s,%s)\"\n",
    "VAL=[\n",
    "(1 , \"GTA V\" , \"DFJDJFDJFDJFDJFJF\" , 2),\n",
    "(2 , \"TSHIRT\" , \"DFDFJDFJDKFD\" , 5),\n",
    "(3 , \"ROG LAPTOP\" , \"DFNTTNTNTERND\" , 4),\n",
    "(4 , \"OATS\" , \"REURENTBTOTH\" , 3 ),\n",
    "(5 , \"HARRY POTTER\" , \"NBEMCTHTJTH\" , 1 )]\n",
    "\n",
    "cursorobject.executemany(insert_query,VAL)\n",
    "connection.commit()\n"
   ]
  },
  {
   "cell_type": "code",
   "execution_count": 54,
   "id": "81fd0cdb",
   "metadata": {},
   "outputs": [],
   "source": [
    "# insert into \"product_details\" table\n",
    "\n",
    "insert_query= \"Insert into product_details (PROD_ID,PRO_ID,SUPP_ID,PROD_PRICE) values(%s,%s,%s,%s)\"\n",
    "VAL=[\n",
    "(1 , 1 , 2 , 1500),\n",
    "(2 , 3 , 5 , 30000),\n",
    "(3 , 5 , 1 , 3000),\n",
    "(4 , 2 , 3 , 2500 ),\n",
    "(5 , 4 , 1 , 1000 )]\n",
    "\n",
    "cursorobject.executemany(insert_query,VAL)\n",
    "connection.commit()\n"
   ]
  },
  {
   "cell_type": "code",
   "execution_count": 63,
   "id": "0007db44",
   "metadata": {},
   "outputs": [],
   "source": [
    "# insert into \"orders\" table\n",
    "\n",
    "insert_query= \"Insert into orders (ORD_ID,ORD_AMOUNT,ORD_DATE,CUS_ID,PROD_ID) values(%s,%s,%s,%s,%s)\"\n",
    "VAL=[\n",
    "(20 , 1500 , '2021-10-12' , 3 , 5),\n",
    "(25 , 30500 ,'2021-09-16' , 5 , 2),\n",
    "(26 , 2000 , '2021-10-05' , 1 , 1),\n",
    "(30 , 3500 , '2021-08-16' , 4 , 3),\n",
    "(50 , 2000 , '2021-10-06' , 2 , 1)]\n",
    "\n",
    "cursorobject.executemany(insert_query,VAL)\n",
    "connection.commit()\n"
   ]
  },
  {
   "cell_type": "code",
   "execution_count": 65,
   "id": "34c7a207",
   "metadata": {},
   "outputs": [],
   "source": [
    "# insert into \"rating\" table\n",
    "\n",
    "insert_query= \"Insert into rating (RAT_ID,CUS_ID,SUPP_ID,RAT_RATSTARS) values(%s,%s,%s,%s)\"\n",
    "VAL=[\n",
    "(1 , 2 , 2 , 4),\n",
    "(2 , 3 , 4 , 3),\n",
    "(3 , 5 , 1 , 5),\n",
    "(4 , 1 , 3 , 2),\n",
    "(5 , 4 , 5 , 4 )]\n",
    "\n",
    "cursorobject.executemany(insert_query,VAL)\n",
    "connection.commit()"
   ]
  },
  {
   "cell_type": "markdown",
   "id": "1e6268b4",
   "metadata": {},
   "source": [
    "Q3) Display the number of the customer group by their genders who have placed any order of amount greater than or equal to Rs.3000."
   ]
  },
  {
   "cell_type": "code",
   "execution_count": 14,
   "id": "460ada36",
   "metadata": {},
   "outputs": [
    {
     "data": {
      "text/plain": [
       "[('M', 1), ('F', 1)]"
      ]
     },
     "execution_count": 14,
     "metadata": {},
     "output_type": "execute_result"
    }
   ],
   "source": [
    "query= \"\"\" select c.CUS_GENDER,count(C.CUS_ID) From customer as c join\n",
    "          (select CUS_ID from orders where ORD_AMOUNT>=3000) as q on c.CUS_ID=q.CUS_ID group by c.CUS_GENDER\"\"\"\n",
    "cursorobject.execute(query)\n",
    "output=cursorobject.fetchall()\n",
    "output"
   ]
  },
  {
   "cell_type": "markdown",
   "id": "047e9371",
   "metadata": {},
   "source": [
    "Q4) Display all the order along with product name ordered by a customer having Customer_Id=2"
   ]
  },
  {
   "cell_type": "code",
   "execution_count": 22,
   "id": "8b9631f9",
   "metadata": {},
   "outputs": [
    {
     "data": {
      "text/html": [
       "<div>\n",
       "<style scoped>\n",
       "    .dataframe tbody tr th:only-of-type {\n",
       "        vertical-align: middle;\n",
       "    }\n",
       "\n",
       "    .dataframe tbody tr th {\n",
       "        vertical-align: top;\n",
       "    }\n",
       "\n",
       "    .dataframe thead th {\n",
       "        text-align: right;\n",
       "    }\n",
       "</style>\n",
       "<table border=\"1\" class=\"dataframe\">\n",
       "  <thead>\n",
       "    <tr style=\"text-align: right;\">\n",
       "      <th></th>\n",
       "      <th>ORD_ID</th>\n",
       "      <th>PROD_NAME</th>\n",
       "    </tr>\n",
       "  </thead>\n",
       "  <tbody>\n",
       "    <tr>\n",
       "      <th>0</th>\n",
       "      <td>50</td>\n",
       "      <td>GTA V</td>\n",
       "    </tr>\n",
       "  </tbody>\n",
       "</table>\n",
       "</div>"
      ],
      "text/plain": [
       "   ORD_ID PROD_NAME\n",
       "0      50     GTA V"
      ]
     },
     "execution_count": 22,
     "metadata": {},
     "output_type": "execute_result"
    }
   ],
   "source": [
    "query= \"\"\" select ORD_ID , PRO_NAME from orders , product_details , product where orders.CUS_ID=2 and orders.PROD_ID = product_details.PROD_ID AND product_details.PRO_ID= product.PRO_ID \"\"\"\n",
    "cursorobject.execute(query)\n",
    "output=cursorobject.fetchall()\n",
    "output_df=pd.DataFrame(output,columns=[\"ORD_ID\",\"PROD_NAME\"])\n",
    "output_df"
   ]
  },
  {
   "cell_type": "code",
   "execution_count": null,
   "id": "05416fc2",
   "metadata": {},
   "outputs": [],
   "source": [
    "Q5) Display the Supplier details who can supply more than one product."
   ]
  },
  {
   "cell_type": "code",
   "execution_count": 24,
   "id": "dbe2f5ef",
   "metadata": {},
   "outputs": [
    {
     "data": {
      "text/html": [
       "<div>\n",
       "<style scoped>\n",
       "    .dataframe tbody tr th:only-of-type {\n",
       "        vertical-align: middle;\n",
       "    }\n",
       "\n",
       "    .dataframe tbody tr th {\n",
       "        vertical-align: top;\n",
       "    }\n",
       "\n",
       "    .dataframe thead th {\n",
       "        text-align: right;\n",
       "    }\n",
       "</style>\n",
       "<table border=\"1\" class=\"dataframe\">\n",
       "  <thead>\n",
       "    <tr style=\"text-align: right;\">\n",
       "      <th></th>\n",
       "      <th>SUPP_ID</th>\n",
       "      <th>SUPP_NAME</th>\n",
       "      <th>SUPP_CITY</th>\n",
       "      <th>SUPP_PHONE</th>\n",
       "    </tr>\n",
       "  </thead>\n",
       "  <tbody>\n",
       "    <tr>\n",
       "      <th>0</th>\n",
       "      <td>1</td>\n",
       "      <td>Rajesh Retail</td>\n",
       "      <td>Delhi</td>\n",
       "      <td>1234567890</td>\n",
       "    </tr>\n",
       "  </tbody>\n",
       "</table>\n",
       "</div>"
      ],
      "text/plain": [
       "   SUPP_ID      SUPP_NAME SUPP_CITY  SUPP_PHONE\n",
       "0        1  Rajesh Retail     Delhi  1234567890"
      ]
     },
     "execution_count": 24,
     "metadata": {},
     "output_type": "execute_result"
    }
   ],
   "source": [
    "query5 =\"\"\" select supplier.* from supplier, product_details\n",
    "           where supplier.SUPP_ID in\n",
    "           ( select product_details.SUPP_ID from product_details\n",
    "             group by product_details.SUPP_ID having count(product_details.SUPP_ID)>1) \n",
    "              group by supplier.SUPP_ID\"\"\"\n",
    "cursorobject.execute(query5)\n",
    "output=cursorobject.fetchall()\n",
    "output_df=pd.DataFrame(output,columns=[\"SUPP_ID\",\"SUPP_NAME\",\"SUPP_CITY\",\"SUPP_PHONE\"])\n",
    "output_df"
   ]
  },
  {
   "cell_type": "markdown",
   "id": "720863b5",
   "metadata": {},
   "source": [
    "Q6) Find the category of the product whose order amount is minimum"
   ]
  },
  {
   "cell_type": "code",
   "execution_count": 33,
   "id": "ee130a07",
   "metadata": {},
   "outputs": [
    {
     "data": {
      "text/html": [
       "<div>\n",
       "<style scoped>\n",
       "    .dataframe tbody tr th:only-of-type {\n",
       "        vertical-align: middle;\n",
       "    }\n",
       "\n",
       "    .dataframe tbody tr th {\n",
       "        vertical-align: top;\n",
       "    }\n",
       "\n",
       "    .dataframe thead th {\n",
       "        text-align: right;\n",
       "    }\n",
       "</style>\n",
       "<table border=\"1\" class=\"dataframe\">\n",
       "  <thead>\n",
       "    <tr style=\"text-align: right;\">\n",
       "      <th></th>\n",
       "      <th>CAT_ID</th>\n",
       "      <th>CAT_NAME</th>\n",
       "    </tr>\n",
       "  </thead>\n",
       "  <tbody>\n",
       "    <tr>\n",
       "      <th>0</th>\n",
       "      <td>3</td>\n",
       "      <td>GROCERIES</td>\n",
       "    </tr>\n",
       "  </tbody>\n",
       "</table>\n",
       "</div>"
      ],
      "text/plain": [
       "   CAT_ID   CAT_NAME\n",
       "0       3  GROCERIES"
      ]
     },
     "execution_count": 33,
     "metadata": {},
     "output_type": "execute_result"
    }
   ],
   "source": [
    "query6 = \"\"\" select category.* from `orders` inner join product_details on \n",
    "            `orders`.PROD_ID=product_details.PROD_ID inner join product on\n",
    "            product.PRO_ID=PRODUCT_details.PRO_ID inner join category on\n",
    "            category.CAT_ID=product.CAT_ID having min(`orders`.ORD_AMOUNT)\"\"\"\n",
    "cursorobject.execute(query6)\n",
    "output=cursorobject.fetchall()\n",
    "output_df=pd.DataFrame(output,columns=[\"CAT_ID\",\"CAT_NAME\"])\n",
    "output_df"
   ]
  },
  {
   "cell_type": "markdown",
   "id": "cd5d291d",
   "metadata": {},
   "source": [
    "Q7) Display the Id and Name of the Product ordered after “2021-10-05”."
   ]
  },
  {
   "cell_type": "code",
   "execution_count": 45,
   "id": "31a5334a",
   "metadata": {},
   "outputs": [
    {
     "data": {
      "text/html": [
       "<div>\n",
       "<style scoped>\n",
       "    .dataframe tbody tr th:only-of-type {\n",
       "        vertical-align: middle;\n",
       "    }\n",
       "\n",
       "    .dataframe tbody tr th {\n",
       "        vertical-align: top;\n",
       "    }\n",
       "\n",
       "    .dataframe thead th {\n",
       "        text-align: right;\n",
       "    }\n",
       "</style>\n",
       "<table border=\"1\" class=\"dataframe\">\n",
       "  <thead>\n",
       "    <tr style=\"text-align: right;\">\n",
       "      <th></th>\n",
       "      <th>PRO_ID</th>\n",
       "      <th>PRO_NAME</th>\n",
       "    </tr>\n",
       "  </thead>\n",
       "  <tbody>\n",
       "    <tr>\n",
       "      <th>0</th>\n",
       "      <td>4</td>\n",
       "      <td>OATS</td>\n",
       "    </tr>\n",
       "    <tr>\n",
       "      <th>1</th>\n",
       "      <td>1</td>\n",
       "      <td>GTA V</td>\n",
       "    </tr>\n",
       "  </tbody>\n",
       "</table>\n",
       "</div>"
      ],
      "text/plain": [
       "   PRO_ID PRO_NAME\n",
       "0       4     OATS\n",
       "1       1    GTA V"
      ]
     },
     "execution_count": 45,
     "metadata": {},
     "output_type": "execute_result"
    }
   ],
   "source": [
    "query7=\"\"\" select product.PRO_ID, product.PRO_NAME   from product inner join product_details on\n",
    "           product.PRO_ID=product_details.PRO_ID inner join `orders` on\n",
    "           product_details.PROD_ID=`orders`.PROD_ID where `orders`.ORD_DATE>\"2021-10-05\"\n",
    "          \"\"\"\n",
    "cursorobject.execute(query7)\n",
    "output=cursorobject.fetchall()\n",
    "output_df=pd.DataFrame(output,columns=[\"PRO_ID\",\"PRO_NAME\"])\n",
    "output_df"
   ]
  },
  {
   "cell_type": "markdown",
   "id": "b07e6fdf",
   "metadata": {},
   "source": [
    "Q8) Print the top 3 supplier name and id and rating on the basis of their rating along with the customer name who has given the rating"
   ]
  },
  {
   "cell_type": "code",
   "execution_count": 51,
   "id": "4c45abf7",
   "metadata": {},
   "outputs": [
    {
     "data": {
      "text/html": [
       "<div>\n",
       "<style scoped>\n",
       "    .dataframe tbody tr th:only-of-type {\n",
       "        vertical-align: middle;\n",
       "    }\n",
       "\n",
       "    .dataframe tbody tr th {\n",
       "        vertical-align: top;\n",
       "    }\n",
       "\n",
       "    .dataframe thead th {\n",
       "        text-align: right;\n",
       "    }\n",
       "</style>\n",
       "<table border=\"1\" class=\"dataframe\">\n",
       "  <thead>\n",
       "    <tr style=\"text-align: right;\">\n",
       "      <th></th>\n",
       "      <th>SUPP_ID</th>\n",
       "      <th>SUPP_NAME</th>\n",
       "      <th>CUS_ID</th>\n",
       "      <th>RAT_RATSTARS</th>\n",
       "    </tr>\n",
       "  </thead>\n",
       "  <tbody>\n",
       "    <tr>\n",
       "      <th>0</th>\n",
       "      <td>1</td>\n",
       "      <td>Rajesh Retail</td>\n",
       "      <td>5</td>\n",
       "      <td>5</td>\n",
       "    </tr>\n",
       "    <tr>\n",
       "      <th>1</th>\n",
       "      <td>2</td>\n",
       "      <td>Appario Ltd.</td>\n",
       "      <td>2</td>\n",
       "      <td>4</td>\n",
       "    </tr>\n",
       "    <tr>\n",
       "      <th>2</th>\n",
       "      <td>5</td>\n",
       "      <td>Mittal Ltd.</td>\n",
       "      <td>4</td>\n",
       "      <td>4</td>\n",
       "    </tr>\n",
       "  </tbody>\n",
       "</table>\n",
       "</div>"
      ],
      "text/plain": [
       "   SUPP_ID      SUPP_NAME  CUS_ID  RAT_RATSTARS\n",
       "0        1  Rajesh Retail       5             5\n",
       "1        2   Appario Ltd.       2             4\n",
       "2        5    Mittal Ltd.       4             4"
      ]
     },
     "execution_count": 51,
     "metadata": {},
     "output_type": "execute_result"
    }
   ],
   "source": [
    "query8=\"\"\" select supplier.SUPP_ID , supplier.SUPP_NAME,customer.CUS_ID,rating.RAT_RATSTARS\n",
    "          from  rating inner join supplier on  rating.SUPP_ID=supplier.SUPP_ID\n",
    "          inner join customer on rating.CUS_ID= customer.CUS_ID order by rating.RAT_RATSTARS desc limit 3  \"\"\"\n",
    "cursorobject.execute(query8)\n",
    "output=cursorobject.fetchall()\n",
    "output_df=pd.DataFrame(output,columns=[\"SUPP_ID\",\"SUPP_NAME\",\"CUS_ID\",\"RAT_RATSTARS\"])\n",
    "output_df"
   ]
  },
  {
   "cell_type": "markdown",
   "id": "e92fff89",
   "metadata": {},
   "source": [
    "Q9) Display customer name and gender whose names start or end with character 'A'"
   ]
  },
  {
   "cell_type": "code",
   "execution_count": 58,
   "id": "92cd9187",
   "metadata": {},
   "outputs": [
    {
     "data": {
      "text/html": [
       "<div>\n",
       "<style scoped>\n",
       "    .dataframe tbody tr th:only-of-type {\n",
       "        vertical-align: middle;\n",
       "    }\n",
       "\n",
       "    .dataframe tbody tr th {\n",
       "        vertical-align: top;\n",
       "    }\n",
       "\n",
       "    .dataframe thead th {\n",
       "        text-align: right;\n",
       "    }\n",
       "</style>\n",
       "<table border=\"1\" class=\"dataframe\">\n",
       "  <thead>\n",
       "    <tr style=\"text-align: right;\">\n",
       "      <th></th>\n",
       "      <th>CUS_NAME</th>\n",
       "      <th>CUS_GENDER</th>\n",
       "    </tr>\n",
       "  </thead>\n",
       "  <tbody>\n",
       "    <tr>\n",
       "      <th>0</th>\n",
       "      <td>AAKASH</td>\n",
       "      <td>M</td>\n",
       "    </tr>\n",
       "    <tr>\n",
       "      <th>1</th>\n",
       "      <td>AMAN</td>\n",
       "      <td>M</td>\n",
       "    </tr>\n",
       "    <tr>\n",
       "      <th>2</th>\n",
       "      <td>NEHA</td>\n",
       "      <td>F</td>\n",
       "    </tr>\n",
       "    <tr>\n",
       "      <th>3</th>\n",
       "      <td>MEGHA</td>\n",
       "      <td>F</td>\n",
       "    </tr>\n",
       "  </tbody>\n",
       "</table>\n",
       "</div>"
      ],
      "text/plain": [
       "  CUS_NAME CUS_GENDER\n",
       "0   AAKASH          M\n",
       "1     AMAN          M\n",
       "2     NEHA          F\n",
       "3    MEGHA          F"
      ]
     },
     "execution_count": 58,
     "metadata": {},
     "output_type": "execute_result"
    }
   ],
   "source": [
    "query9= \"\"\"select customer.CUS_NAME , customer.CUS_GENDER from customer where customer.CUS_NAME LIKE '%A' OR customer.CUS_NAME LIKE 'A%' \"\"\"\n",
    "cursorobject.execute(query9)\n",
    "output=cursorobject.fetchall()\n",
    "output_df=pd.DataFrame(output,columns=[\"CUS_NAME\",\"CUS_GENDER\"])\n",
    "output_df"
   ]
  },
  {
   "cell_type": "markdown",
   "id": "301cb8f3",
   "metadata": {},
   "source": [
    "Q10) Display the total order amount of the male customers"
   ]
  },
  {
   "cell_type": "code",
   "execution_count": 61,
   "id": "60688fe3",
   "metadata": {},
   "outputs": [
    {
     "name": "stdout",
     "output_type": "stream",
     "text": [
      "Amount is= [(Decimal('34500'),)]\n"
     ]
    }
   ],
   "source": [
    "query10=\"\"\" select sum(orders.ORD_AMOUNT) \n",
    "            from orders inner join customer on orders.CUS_ID=customer.CUS_ID where customer.CUS_GENDER='M' \"\"\"\n",
    "cursorobject.execute(query10)\n",
    "output=cursorobject.fetchall()\n",
    "print(\"Amount is=\",output)"
   ]
  },
  {
   "cell_type": "code",
   "execution_count": 62,
   "id": "dd9dd126",
   "metadata": {},
   "outputs": [
    {
     "data": {
      "text/plain": [
       "'C:\\\\Users\\\\santh'"
      ]
     },
     "execution_count": 62,
     "metadata": {},
     "output_type": "execute_result"
    }
   ],
   "source": [
    "Q11) Display all the Customers left outer join with  the orders"
   ]
  },
  {
   "cell_type": "code",
   "execution_count": 68,
   "id": "db899129",
   "metadata": {},
   "outputs": [
    {
     "data": {
      "text/html": [
       "<div>\n",
       "<style scoped>\n",
       "    .dataframe tbody tr th:only-of-type {\n",
       "        vertical-align: middle;\n",
       "    }\n",
       "\n",
       "    .dataframe tbody tr th {\n",
       "        vertical-align: top;\n",
       "    }\n",
       "\n",
       "    .dataframe thead th {\n",
       "        text-align: right;\n",
       "    }\n",
       "</style>\n",
       "<table border=\"1\" class=\"dataframe\">\n",
       "  <thead>\n",
       "    <tr style=\"text-align: right;\">\n",
       "      <th></th>\n",
       "      <th>CUS_ID</th>\n",
       "      <th>CUS_NAME</th>\n",
       "      <th>CUS_PHONE</th>\n",
       "      <th>CUS_CITY</th>\n",
       "      <th>CUS_GENDER</th>\n",
       "      <th>ORD_ID</th>\n",
       "      <th>ORD_AMOUNT</th>\n",
       "      <th>ORD_DATE</th>\n",
       "      <th>CUS_ID</th>\n",
       "      <th>PROD_ID</th>\n",
       "    </tr>\n",
       "  </thead>\n",
       "  <tbody>\n",
       "    <tr>\n",
       "      <th>0</th>\n",
       "      <td>1</td>\n",
       "      <td>AAKASH</td>\n",
       "      <td>9999999999</td>\n",
       "      <td>DELHI</td>\n",
       "      <td>M</td>\n",
       "      <td>26</td>\n",
       "      <td>2000</td>\n",
       "      <td>2021-10-05</td>\n",
       "      <td>1</td>\n",
       "      <td>1</td>\n",
       "    </tr>\n",
       "    <tr>\n",
       "      <th>1</th>\n",
       "      <td>2</td>\n",
       "      <td>AMAN</td>\n",
       "      <td>9785463215</td>\n",
       "      <td>NOIDA</td>\n",
       "      <td>M</td>\n",
       "      <td>50</td>\n",
       "      <td>2000</td>\n",
       "      <td>2021-10-06</td>\n",
       "      <td>2</td>\n",
       "      <td>1</td>\n",
       "    </tr>\n",
       "    <tr>\n",
       "      <th>2</th>\n",
       "      <td>3</td>\n",
       "      <td>NEHA</td>\n",
       "      <td>9999999998</td>\n",
       "      <td>MUMBAI</td>\n",
       "      <td>F</td>\n",
       "      <td>20</td>\n",
       "      <td>1500</td>\n",
       "      <td>2021-10-12</td>\n",
       "      <td>3</td>\n",
       "      <td>5</td>\n",
       "    </tr>\n",
       "    <tr>\n",
       "      <th>3</th>\n",
       "      <td>4</td>\n",
       "      <td>MEGHA</td>\n",
       "      <td>9994562399</td>\n",
       "      <td>KOLKATA</td>\n",
       "      <td>F</td>\n",
       "      <td>30</td>\n",
       "      <td>3500</td>\n",
       "      <td>2021-08-16</td>\n",
       "      <td>4</td>\n",
       "      <td>3</td>\n",
       "    </tr>\n",
       "    <tr>\n",
       "      <th>4</th>\n",
       "      <td>5</td>\n",
       "      <td>PULKIT</td>\n",
       "      <td>7895999999</td>\n",
       "      <td>LUCKNOW</td>\n",
       "      <td>M</td>\n",
       "      <td>25</td>\n",
       "      <td>30500</td>\n",
       "      <td>2021-09-16</td>\n",
       "      <td>5</td>\n",
       "      <td>2</td>\n",
       "    </tr>\n",
       "  </tbody>\n",
       "</table>\n",
       "</div>"
      ],
      "text/plain": [
       "   CUS_ID CUS_NAME   CUS_PHONE CUS_CITY CUS_GENDER  ORD_ID  ORD_AMOUNT   \n",
       "0       1   AAKASH  9999999999    DELHI          M      26        2000  \\\n",
       "1       2     AMAN  9785463215    NOIDA          M      50        2000   \n",
       "2       3     NEHA  9999999998   MUMBAI          F      20        1500   \n",
       "3       4    MEGHA  9994562399  KOLKATA          F      30        3500   \n",
       "4       5   PULKIT  7895999999  LUCKNOW          M      25       30500   \n",
       "\n",
       "     ORD_DATE  CUS_ID  PROD_ID  \n",
       "0  2021-10-05       1        1  \n",
       "1  2021-10-06       2        1  \n",
       "2  2021-10-12       3        5  \n",
       "3  2021-08-16       4        3  \n",
       "4  2021-09-16       5        2  "
      ]
     },
     "execution_count": 68,
     "metadata": {},
     "output_type": "execute_result"
    }
   ],
   "source": [
    "query11=\"\"\"select  *  from customer  left outer join  orders on customer.CUS_ID=orders.CUS_ID\"\"\"\n",
    "cursorobject.execute(query11)\n",
    "output=cursorobject.fetchall()\n",
    "output_df=pd.DataFrame(output,columns=[\"CUS_ID\",\"CUS_NAME\",\"CUS_PHONE\",\"CUS_CITY\",\"CUS_GENDER\",\"ORD_ID\",\"ORD_AMOUNT\",\"ORD_DATE\",\"CUS_ID\",\"PROD_ID\"])\n",
    "output_df"
   ]
  },
  {
   "cell_type": "code",
   "execution_count": null,
   "id": "fb20f9b2",
   "metadata": {},
   "outputs": [],
   "source": []
  }
 ],
 "metadata": {
  "kernelspec": {
   "display_name": "Python 3 (ipykernel)",
   "language": "python",
   "name": "python3"
  },
  "language_info": {
   "codemirror_mode": {
    "name": "ipython",
    "version": 3
   },
   "file_extension": ".py",
   "mimetype": "text/x-python",
   "name": "python",
   "nbconvert_exporter": "python",
   "pygments_lexer": "ipython3",
   "version": "3.10.11"
  }
 },
 "nbformat": 4,
 "nbformat_minor": 5
}
